{
 "cells": [
  {
   "cell_type": "code",
   "execution_count": 8,
   "metadata": {
    "collapsed": true
   },
   "outputs": [],
   "source": [
    "from skimage import io, color, morphology\n",
    "from skimage.util import img_as_float, img_as_ubyte\n",
    "import matplotlib.pyplot as plt\n",
    "import numpy as np\n",
    "from skimage.filters import threshold_otsu\n",
    "from skimage import segmentation\n",
    "from skimage import measure\n",
    "from skimage.color import label2rgb\n",
    "from skimage.morphology import erosion, dilation, opening, closing\n",
    "from skimage.morphology import disk\n",
    "import imagecodecs\n",
    "import tifffile as tiff"
   ]
  },
  {
   "cell_type": "code",
   "execution_count": 9,
   "outputs": [
    {
     "ename": "ValueError",
     "evalue": "<COMPRESSION.LZW: 5> requires the 'imagecodecs' package",
     "output_type": "error",
     "traceback": [
      "\u001B[1;31m---------------------------------------------------------------------------\u001B[0m",
      "\u001B[1;31mValueError\u001B[0m                                Traceback (most recent call last)",
      "Cell \u001B[1;32mIn[9], line 2\u001B[0m\n\u001B[0;32m      1\u001B[0m file \u001B[38;5;241m=\u001B[39m \u001B[38;5;124m\"\u001B[39m\u001B[38;5;124mdata/Sample E2 - U2OS AP channel.tiff\u001B[39m\u001B[38;5;124m\"\u001B[39m\n\u001B[1;32m----> 2\u001B[0m img_org \u001B[38;5;241m=\u001B[39m \u001B[43mtiff\u001B[49m\u001B[38;5;241;43m.\u001B[39;49m\u001B[43mimread\u001B[49m\u001B[43m(\u001B[49m\u001B[43mfile\u001B[49m\u001B[43m)\u001B[49m\n\u001B[0;32m      3\u001B[0m \u001B[38;5;66;03m# slice to extract smaller image\u001B[39;00m\n\u001B[0;32m      4\u001B[0m img_small \u001B[38;5;241m=\u001B[39m img_org[\u001B[38;5;241m700\u001B[39m:\u001B[38;5;241m1200\u001B[39m, \u001B[38;5;241m900\u001B[39m:\u001B[38;5;241m1400\u001B[39m]\n",
      "File \u001B[1;32m~\\AppData\\Local\\Programs\\Python\\Python311\\Lib\\site-packages\\tifffile\\tifffile.py:1064\u001B[0m, in \u001B[0;36mimread\u001B[1;34m(files, aszarr, key, series, level, squeeze, maxworkers, mode, name, offset, size, pattern, axesorder, categories, imread, sort, container, chunkshape, dtype, axestiled, ioworkers, chunkmode, fillvalue, zattrs, multiscales, omexml, out, out_inplace, _multifile, _useframes, **kwargs)\u001B[0m\n\u001B[0;32m   1052\u001B[0m                 \u001B[38;5;28;01massert\u001B[39;00m key \u001B[38;5;129;01mis\u001B[39;00m \u001B[38;5;28;01mNone\u001B[39;00m \u001B[38;5;129;01mor\u001B[39;00m \u001B[38;5;28misinstance\u001B[39m(key, \u001B[38;5;28mint\u001B[39m)\n\u001B[0;32m   1053\u001B[0m                 \u001B[38;5;28;01mreturn\u001B[39;00m tif\u001B[38;5;241m.\u001B[39maszarr(\n\u001B[0;32m   1054\u001B[0m                     key\u001B[38;5;241m=\u001B[39mkey,\n\u001B[0;32m   1055\u001B[0m                     series\u001B[38;5;241m=\u001B[39mseries,\n\u001B[1;32m   (...)\u001B[0m\n\u001B[0;32m   1062\u001B[0m                     multiscales\u001B[38;5;241m=\u001B[39mmultiscales,\n\u001B[0;32m   1063\u001B[0m                 )\n\u001B[1;32m-> 1064\u001B[0m             \u001B[38;5;28;01mreturn\u001B[39;00m \u001B[43mtif\u001B[49m\u001B[38;5;241;43m.\u001B[39;49m\u001B[43masarray\u001B[49m\u001B[43m(\u001B[49m\n\u001B[0;32m   1065\u001B[0m \u001B[43m                \u001B[49m\u001B[43mkey\u001B[49m\u001B[38;5;241;43m=\u001B[39;49m\u001B[43mkey\u001B[49m\u001B[43m,\u001B[49m\n\u001B[0;32m   1066\u001B[0m \u001B[43m                \u001B[49m\u001B[43mseries\u001B[49m\u001B[38;5;241;43m=\u001B[39;49m\u001B[43mseries\u001B[49m\u001B[43m,\u001B[49m\n\u001B[0;32m   1067\u001B[0m \u001B[43m                \u001B[49m\u001B[43mlevel\u001B[49m\u001B[38;5;241;43m=\u001B[39;49m\u001B[43mlevel\u001B[49m\u001B[43m,\u001B[49m\n\u001B[0;32m   1068\u001B[0m \u001B[43m                \u001B[49m\u001B[43msqueeze\u001B[49m\u001B[38;5;241;43m=\u001B[39;49m\u001B[43msqueeze\u001B[49m\u001B[43m,\u001B[49m\n\u001B[0;32m   1069\u001B[0m \u001B[43m                \u001B[49m\u001B[43mmaxworkers\u001B[49m\u001B[38;5;241;43m=\u001B[39;49m\u001B[43mmaxworkers\u001B[49m\u001B[43m,\u001B[49m\n\u001B[0;32m   1070\u001B[0m \u001B[43m                \u001B[49m\u001B[43mout\u001B[49m\u001B[38;5;241;43m=\u001B[39;49m\u001B[43mout\u001B[49m\u001B[43m,\u001B[49m\n\u001B[0;32m   1071\u001B[0m \u001B[43m            \u001B[49m\u001B[43m)\u001B[49m\n\u001B[0;32m   1073\u001B[0m \u001B[38;5;28;01melif\u001B[39;00m \u001B[38;5;28misinstance\u001B[39m(files, (FileHandle, BinaryIO)):\n\u001B[0;32m   1074\u001B[0m     \u001B[38;5;28;01mraise\u001B[39;00m \u001B[38;5;167;01mValueError\u001B[39;00m(\u001B[38;5;124m'\u001B[39m\u001B[38;5;124mBinaryIO not supported\u001B[39m\u001B[38;5;124m'\u001B[39m)\n",
      "File \u001B[1;32m~\\AppData\\Local\\Programs\\Python\\Python311\\Lib\\site-packages\\tifffile\\tifffile.py:4205\u001B[0m, in \u001B[0;36mTiffFile.asarray\u001B[1;34m(self, key, series, level, squeeze, out, maxworkers)\u001B[0m\n\u001B[0;32m   4203\u001B[0m     \u001B[38;5;28;01mif\u001B[39;00m page0 \u001B[38;5;129;01mis\u001B[39;00m \u001B[38;5;28;01mNone\u001B[39;00m:\n\u001B[0;32m   4204\u001B[0m         \u001B[38;5;28;01mraise\u001B[39;00m \u001B[38;5;167;01mValueError\u001B[39;00m(\u001B[38;5;124m'\u001B[39m\u001B[38;5;124mpage is None\u001B[39m\u001B[38;5;124m'\u001B[39m)\n\u001B[1;32m-> 4205\u001B[0m     result \u001B[38;5;241m=\u001B[39m \u001B[43mpage0\u001B[49m\u001B[38;5;241;43m.\u001B[39;49m\u001B[43masarray\u001B[49m\u001B[43m(\u001B[49m\u001B[43mout\u001B[49m\u001B[38;5;241;43m=\u001B[39;49m\u001B[43mout\u001B[49m\u001B[43m,\u001B[49m\u001B[43m \u001B[49m\u001B[43mmaxworkers\u001B[49m\u001B[38;5;241;43m=\u001B[39;49m\u001B[43mmaxworkers\u001B[49m\u001B[43m)\u001B[49m\n\u001B[0;32m   4206\u001B[0m \u001B[38;5;28;01melse\u001B[39;00m:\n\u001B[0;32m   4207\u001B[0m     result \u001B[38;5;241m=\u001B[39m stack_pages(pages, out\u001B[38;5;241m=\u001B[39mout, maxworkers\u001B[38;5;241m=\u001B[39mmaxworkers)\n",
      "File \u001B[1;32m~\\AppData\\Local\\Programs\\Python\\Python311\\Lib\\site-packages\\tifffile\\tifffile.py:8681\u001B[0m, in \u001B[0;36mTiffPage.asarray\u001B[1;34m(self, out, squeeze, lock, maxworkers)\u001B[0m\n\u001B[0;32m   8671\u001B[0m             out[\n\u001B[0;32m   8672\u001B[0m                 s, d : d \u001B[38;5;241m+\u001B[39m shape[\u001B[38;5;241m0\u001B[39m], l : l \u001B[38;5;241m+\u001B[39m shape[\u001B[38;5;241m1\u001B[39m], w : w \u001B[38;5;241m+\u001B[39m shape[\u001B[38;5;241m2\u001B[39m]\n\u001B[0;32m   8673\u001B[0m             ] \u001B[38;5;241m=\u001B[39m segment[\n\u001B[1;32m   (...)\u001B[0m\n\u001B[0;32m   8676\u001B[0m                 : keyframe\u001B[38;5;241m.\u001B[39mimagewidth \u001B[38;5;241m-\u001B[39m w,\n\u001B[0;32m   8677\u001B[0m             ]\n\u001B[0;32m   8678\u001B[0m         \u001B[38;5;66;03m# except IndexError:\u001B[39;00m\n\u001B[0;32m   8679\u001B[0m         \u001B[38;5;66;03m#     pass  # corrupted file, e.g., with too many strips\u001B[39;00m\n\u001B[1;32m-> 8681\u001B[0m     \u001B[38;5;28;01mfor\u001B[39;00m _ \u001B[38;5;129;01min\u001B[39;00m \u001B[38;5;28mself\u001B[39m\u001B[38;5;241m.\u001B[39msegments(\n\u001B[0;32m   8682\u001B[0m         func\u001B[38;5;241m=\u001B[39mfunc,\n\u001B[0;32m   8683\u001B[0m         lock\u001B[38;5;241m=\u001B[39mlock,\n\u001B[0;32m   8684\u001B[0m         maxworkers\u001B[38;5;241m=\u001B[39mmaxworkers,\n\u001B[0;32m   8685\u001B[0m         sort\u001B[38;5;241m=\u001B[39m\u001B[38;5;28;01mTrue\u001B[39;00m,\n\u001B[0;32m   8686\u001B[0m         _fullsize\u001B[38;5;241m=\u001B[39m\u001B[38;5;28;01mFalse\u001B[39;00m,\n\u001B[0;32m   8687\u001B[0m     ):\n\u001B[0;32m   8688\u001B[0m         \u001B[38;5;28;01mpass\u001B[39;00m\n\u001B[0;32m   8690\u001B[0m result\u001B[38;5;241m.\u001B[39mshape \u001B[38;5;241m=\u001B[39m keyframe\u001B[38;5;241m.\u001B[39mshaped\n",
      "File \u001B[1;32m~\\AppData\\Local\\Programs\\Python\\Python311\\Lib\\site-packages\\tifffile\\tifffile.py:8480\u001B[0m, in \u001B[0;36mTiffPage.segments\u001B[1;34m(self, lock, maxworkers, func, sort, _fullsize)\u001B[0m\n\u001B[0;32m   8472\u001B[0m \u001B[38;5;28;01mif\u001B[39;00m maxworkers \u001B[38;5;241m<\u001B[39m \u001B[38;5;241m2\u001B[39m:\n\u001B[0;32m   8473\u001B[0m     \u001B[38;5;28;01mfor\u001B[39;00m segment \u001B[38;5;129;01min\u001B[39;00m fh\u001B[38;5;241m.\u001B[39mread_segments(\n\u001B[0;32m   8474\u001B[0m         \u001B[38;5;28mself\u001B[39m\u001B[38;5;241m.\u001B[39mdataoffsets,\n\u001B[0;32m   8475\u001B[0m         \u001B[38;5;28mself\u001B[39m\u001B[38;5;241m.\u001B[39mdatabytecounts,\n\u001B[1;32m   (...)\u001B[0m\n\u001B[0;32m   8478\u001B[0m         flat\u001B[38;5;241m=\u001B[39m\u001B[38;5;28;01mTrue\u001B[39;00m,\n\u001B[0;32m   8479\u001B[0m     ):\n\u001B[1;32m-> 8480\u001B[0m         \u001B[38;5;28;01myield\u001B[39;00m \u001B[43mdecode\u001B[49m\u001B[43m(\u001B[49m\u001B[43msegment\u001B[49m\u001B[43m)\u001B[49m\n\u001B[0;32m   8481\u001B[0m \u001B[38;5;28;01melse\u001B[39;00m:\n\u001B[0;32m   8482\u001B[0m     \u001B[38;5;66;03m# reduce memory overhead by processing chunks of up to\u001B[39;00m\n\u001B[0;32m   8483\u001B[0m     \u001B[38;5;66;03m# ~256 MB of segments because ThreadPoolExecutor.map is not\u001B[39;00m\n\u001B[0;32m   8484\u001B[0m     \u001B[38;5;66;03m# collecting iterables lazily\u001B[39;00m\n\u001B[0;32m   8485\u001B[0m     \u001B[38;5;28;01mwith\u001B[39;00m ThreadPoolExecutor(maxworkers) \u001B[38;5;28;01mas\u001B[39;00m executor:\n",
      "File \u001B[1;32m~\\AppData\\Local\\Programs\\Python\\Python311\\Lib\\site-packages\\tifffile\\tifffile.py:8468\u001B[0m, in \u001B[0;36mTiffPage.segments.<locals>.decode\u001B[1;34m(args, decodeargs, decode)\u001B[0m\n\u001B[0;32m   8467\u001B[0m \u001B[38;5;28;01mdef\u001B[39;00m \u001B[38;5;21mdecode\u001B[39m(args, decodeargs\u001B[38;5;241m=\u001B[39mdecodeargs, decode\u001B[38;5;241m=\u001B[39mkeyframe\u001B[38;5;241m.\u001B[39mdecode):\n\u001B[1;32m-> 8468\u001B[0m     \u001B[38;5;28;01mreturn\u001B[39;00m func(\u001B[43mdecode\u001B[49m\u001B[43m(\u001B[49m\u001B[38;5;241;43m*\u001B[39;49m\u001B[43margs\u001B[49m\u001B[43m,\u001B[49m\u001B[43m \u001B[49m\u001B[38;5;241;43m*\u001B[39;49m\u001B[38;5;241;43m*\u001B[39;49m\u001B[43mdecodeargs\u001B[49m\u001B[43m)\u001B[49m)\n",
      "File \u001B[1;32m~\\AppData\\Local\\Programs\\Python\\Python311\\Lib\\site-packages\\tifffile\\tifffile.py:7952\u001B[0m, in \u001B[0;36mTiffPage.decode.<locals>.decode_raise_compression\u001B[1;34m(exc, *args, **kwargs)\u001B[0m\n\u001B[0;32m   7951\u001B[0m \u001B[38;5;28;01mdef\u001B[39;00m \u001B[38;5;21mdecode_raise_compression\u001B[39m(\u001B[38;5;241m*\u001B[39margs, exc\u001B[38;5;241m=\u001B[39m\u001B[38;5;28mstr\u001B[39m(exc)[\u001B[38;5;241m1\u001B[39m:\u001B[38;5;241m-\u001B[39m\u001B[38;5;241m1\u001B[39m], \u001B[38;5;241m*\u001B[39m\u001B[38;5;241m*\u001B[39mkwargs):\n\u001B[1;32m-> 7952\u001B[0m     \u001B[38;5;28;01mraise\u001B[39;00m \u001B[38;5;167;01mValueError\u001B[39;00m(\u001B[38;5;124mf\u001B[39m\u001B[38;5;124m'\u001B[39m\u001B[38;5;132;01m{\u001B[39;00mexc\u001B[38;5;132;01m}\u001B[39;00m\u001B[38;5;124m'\u001B[39m)\n",
      "\u001B[1;31mValueError\u001B[0m: <COMPRESSION.LZW: 5> requires the 'imagecodecs' package"
     ]
    }
   ],
   "source": [
    "file = \"data/Sample E2 - U2OS AP channel.tiff\"\n",
    "img_org = tiff.imread(file)\n",
    "# slice to extract smaller image\n",
    "img_small = img_org[700:1200, 900:1400]\n",
    "img_gray = img_as_ubyte(img_small)\n",
    "io.imshow(img_gray, vmin=0, vmax=150)\n",
    "plt.title('DAPI Stained U2OS cell nuclei')\n",
    "io.show()"
   ],
   "metadata": {
    "collapsed": false
   }
  },
  {
   "cell_type": "code",
   "execution_count": 4,
   "outputs": [
    {
     "name": "stdout",
     "output_type": "stream",
     "text": [
      "Requirement already satisfied: tifffile in c:\\users\\libz\\appdata\\local\\programs\\python\\python311\\lib\\site-packages (2023.2.28)\n",
      "Requirement already satisfied: numpy in c:\\users\\libz\\appdata\\local\\programs\\python\\python311\\lib\\site-packages (from tifffile) (1.24.2)\n"
     ]
    }
   ],
   "source": [],
   "metadata": {
    "collapsed": false
   }
  },
  {
   "cell_type": "code",
   "execution_count": null,
   "outputs": [],
   "source": [],
   "metadata": {
    "collapsed": false
   }
  }
 ],
 "metadata": {
  "kernelspec": {
   "display_name": "Python 3",
   "language": "python",
   "name": "python3"
  },
  "language_info": {
   "codemirror_mode": {
    "name": "ipython",
    "version": 2
   },
   "file_extension": ".py",
   "mimetype": "text/x-python",
   "name": "python",
   "nbconvert_exporter": "python",
   "pygments_lexer": "ipython2",
   "version": "2.7.6"
  }
 },
 "nbformat": 4,
 "nbformat_minor": 0
}
