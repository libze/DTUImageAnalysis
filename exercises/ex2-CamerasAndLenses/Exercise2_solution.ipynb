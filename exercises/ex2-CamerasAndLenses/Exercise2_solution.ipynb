{
 "cells": [
  {
   "cell_type": "code",
   "execution_count": 4,
   "metadata": {},
   "outputs": [],
   "source": [
    "import math \n",
    "import numpy as np "
   ]
  },
  {
   "cell_type": "markdown",
   "metadata": {},
   "source": [
    "### Computing Camera Parameters"
   ]
  },
  {
   "cell_type": "code",
   "execution_count": 5,
   "metadata": {},
   "outputs": [
    {
     "name": "stdout",
     "output_type": "stream",
     "text": [
      "theta is 16.69924423399362 degrees\n"
     ]
    }
   ],
   "source": [
    "# Exercise 1\n",
    "# tan(v) = modstående katete / hosliggende katete \n",
    "\n",
    "a = 10\n",
    "b = 3\n",
    "v_rad = math.atan2(b, a)\n",
    "v_deg = v_rad * 180 / math.pi \n",
    "print(f\"theta is {v_deg} degrees\")"
   ]
  },
  {
   "cell_type": "code",
   "execution_count": 3,
   "metadata": {},
   "outputs": [
    {
     "ename": "NameError",
     "evalue": "name 'np' is not defined",
     "output_type": "error",
     "traceback": [
      "\u001B[1;31m---------------------------------------------------------------------------\u001B[0m",
      "\u001B[1;31mNameError\u001B[0m                                 Traceback (most recent call last)",
      "Cell \u001B[1;32mIn[3], line 15\u001B[0m\n\u001B[0;32m     12\u001B[0m     \u001B[38;5;28;01mreturn\u001B[39;00m \u001B[38;5;241m1\u001B[39m\u001B[38;5;241m/\u001B[39m(\u001B[38;5;241m1\u001B[39m \u001B[38;5;241m/\u001B[39m f \u001B[38;5;241m-\u001B[39m \u001B[38;5;241m1\u001B[39m \u001B[38;5;241m/\u001B[39m g)\n\u001B[0;32m     14\u001B[0m f \u001B[38;5;241m=\u001B[39m \u001B[38;5;241m15\u001B[39m \u001B[38;5;241m/\u001B[39m \u001B[38;5;241m1000\u001B[39m\n\u001B[1;32m---> 15\u001B[0m g \u001B[38;5;241m=\u001B[39m \u001B[43mnp\u001B[49m\u001B[38;5;241m.\u001B[39marray([\u001B[38;5;241m0.1\u001B[39m, \u001B[38;5;241m1\u001B[39m, \u001B[38;5;241m5\u001B[39m, \u001B[38;5;241m15\u001B[39m]) \n\u001B[0;32m     17\u001B[0m b \u001B[38;5;241m=\u001B[39m camera_b_distance(f, g)\n\u001B[0;32m     18\u001B[0m \u001B[38;5;28mprint\u001B[39m(\u001B[38;5;124mf\u001B[39m\u001B[38;5;124m\"\u001B[39m\u001B[38;5;124mThe distances are \u001B[39m\u001B[38;5;132;01m{\u001B[39;00mb[\u001B[38;5;241m0\u001B[39m]\u001B[38;5;132;01m}\u001B[39;00m\u001B[38;5;124m, \u001B[39m\u001B[38;5;132;01m{\u001B[39;00mb[\u001B[38;5;241m1\u001B[39m]\u001B[38;5;132;01m}\u001B[39;00m\u001B[38;5;124m, \u001B[39m\u001B[38;5;132;01m{\u001B[39;00mb[\u001B[38;5;241m2\u001B[39m]\u001B[38;5;132;01m}\u001B[39;00m\u001B[38;5;124m, \u001B[39m\u001B[38;5;132;01m{\u001B[39;00mb[\u001B[38;5;241m3\u001B[39m]\u001B[38;5;132;01m}\u001B[39;00m\u001B[38;5;124m m\u001B[39m\u001B[38;5;124m\"\u001B[39m)\n",
      "\u001B[1;31mNameError\u001B[0m: name 'np' is not defined"
     ]
    }
   ],
   "source": [
    "# Exercise 2\n",
    "def camera_b_distance(f, g): \n",
    "    \"\"\"\n",
    "    camera_b_distance returns the distance (b) where the CCD should be placed\n",
    "    when the object distance (g) and the focal length (f) are given\n",
    "    inputs :\n",
    "        f: Focal length\n",
    "        g: Object distance\n",
    "    output:\n",
    "        b, the distance where the CCD should be placed\n",
    "    \"\"\"\n",
    "    return 1/(1 / f - 1 / g)\n",
    "\n",
    "f = 15 / 1000\n",
    "g = np.array([0.1, 1, 5, 15]) \n",
    "\n",
    "b = camera_b_distance(f, g)\n",
    "print(f\"The distances are {b[0]}, {b[1]}, {b[2]}, {b[3]} m\")"
   ]
  },
  {
   "cell_type": "code",
   "execution_count": 2,
   "metadata": {},
   "outputs": [
    {
     "ename": "NameError",
     "evalue": "name 'camera_b_distance' is not defined",
     "output_type": "error",
     "traceback": [
      "\u001B[1;31m---------------------------------------------------------------------------\u001B[0m",
      "\u001B[1;31mNameError\u001B[0m                                 Traceback (most recent call last)",
      "Cell \u001B[1;32mIn[2], line 5\u001B[0m\n\u001B[0;32m      3\u001B[0m g \u001B[38;5;241m=\u001B[39m \u001B[38;5;241m1500\u001B[39m\n\u001B[0;32m      4\u001B[0m f \u001B[38;5;241m=\u001B[39m \u001B[38;5;241m15\u001B[39m\n\u001B[1;32m----> 5\u001B[0m b \u001B[38;5;241m=\u001B[39m \u001B[43mcamera_b_distance\u001B[49m(f, g)\n\u001B[0;32m      6\u001B[0m \u001B[38;5;28mprint\u001B[39m(\u001B[38;5;124mf\u001B[39m\u001B[38;5;124m\"\u001B[39m\u001B[38;5;124mThe image is formed at a distance \u001B[39m\u001B[38;5;132;01m{\u001B[39;00mb\u001B[38;5;132;01m}\u001B[39;00m\u001B[38;5;124m mm from the lense\u001B[39m\u001B[38;5;124m\"\u001B[39m)\n\u001B[0;32m      8\u001B[0m \u001B[38;5;66;03m#2\u001B[39;00m\n",
      "\u001B[1;31mNameError\u001B[0m: name 'camera_b_distance' is not defined"
     ]
    }
   ],
   "source": [
    "# Exercise 3\n",
    "# 1 \n",
    "g = 5\n",
    "f = 5 / 1000\n",
    "b = camera_b_distance(f, g)\n",
    "print(f\"The image is formed at a distance {b} m from the lense\")\n",
    "\n",
    "#2\n",
    "G = 1.8\n",
    "B = b * G / g \n",
    "print(f\"Thomas will be {B * 1000} mm tall on the CCD chip\")\n",
    "\n",
    "# 3\n",
    "pix_size = 4.8 /480\n",
    "print(f\"The size of a single pixel is {pix_size} mm\")\n",
    "\n",
    "# 4\n",
    "print(f\"The heigh of Thomas in pixels will be {(B*1000)/pix_size}\")\n",
    "\n",
    "# 5\n",
    "HOV_field = math.atan2(3.2e-3, f) * 2 * 180 / math.pi\n",
    "print(f\"Horisontal field of view is {HOV_field} degrees\")\n",
    "\n",
    "# 6\n",
    "VER_field = math.atan2(2.4e-3, f) * 2 * 180 / math.pi \n",
    "print(f\"Vertical field of view is {VER_field} degrees\")\n",
    "\n"
   ]
  }
 ],
 "metadata": {
  "kernelspec": {
   "display_name": "specialF2022",
   "language": "python",
   "name": "python3"
  },
  "language_info": {
   "codemirror_mode": {
    "name": "ipython",
    "version": 3
   },
   "file_extension": ".py",
   "mimetype": "text/x-python",
   "name": "python",
   "nbconvert_exporter": "python",
   "pygments_lexer": "ipython3",
   "version": "3.10.4"
  },
  "orig_nbformat": 4,
  "vscode": {
   "interpreter": {
    "hash": "c86c753c43211f76d5b708c60577768ece3c521003da737683acab9edecb659f"
   }
  }
 },
 "nbformat": 4,
 "nbformat_minor": 2
}
