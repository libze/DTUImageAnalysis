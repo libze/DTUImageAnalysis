{
 "cells": [
  {
   "cell_type": "code",
   "execution_count": null,
   "metadata": {
    "collapsed": true
   },
   "outputs": [],
   "source": [
    "import numpy as np"
   ]
  },
  {
   "cell_type": "code",
   "execution_count": 1,
   "outputs": [],
   "source": [
    "#Kig på billedet"
   ],
   "metadata": {
    "collapsed": false
   }
  },
  {
   "cell_type": "code",
   "execution_count": 3,
   "outputs": [],
   "source": [
    "import numpy as np\n",
    "def accum(x):\n",
    "    # x is np.array with the data matrix\n",
    "    # output is the accumulator matrix\n",
    "    rows = x.shape[0]\n",
    "    cols = x.shape[1]\n",
    "    accum = np.zeros((rows,cols))\n",
    "    accum[0,:] = x[0,:]\n",
    "    for r in range(1,rows):\n",
    "        accum[r,0] = x[r,0] + min([accum[r-1,0],accum[r-1,1]])\n",
    "        for c in range(1,(cols-1)):\n",
    "            accum[r,c] = x[r,c] + min([accum[r-1,c-1],accum[r-1,c],accum[r-1,c+1]])\n",
    "            accum[r,cols-1] = x[r,cols-1] + min([accum[r-1,cols-2],accum[r-1,cols-1]])\n",
    "    return accum"
   ],
   "metadata": {
    "collapsed": false
   }
  },
  {
   "cell_type": "code",
   "execution_count": 7,
   "outputs": [
    {
     "name": "stdout",
     "output_type": "stream",
     "text": [
      "[[208.  71. 244. 202. 173. 180.]\n",
      " [302. 210. 195. 418. 366. 181.]\n",
      " [242. 439. 399. 362. 370. 252.]\n",
      " [475. 488. 398. 371. 352. 264.]\n",
      " [636. 438. 479. 569. 431. 289.]\n",
      " [463. 686. 672. 669. 333. 499.]]\n"
     ]
    }
   ],
   "source": [
    "x = np.array([[208, 71, 244, 202, 173, 180],\n",
    "     [231, 139, 124, 245, 193,8],\n",
    "     [32, 244, 204, 167, 189, 71],\n",
    "     [233, 246, 36, 9, 100, 12],\n",
    "     [161, 40, 108, 217, 167, 25],\n",
    "     [25, 248, 234, 238, 44, 210]])\n",
    "print(accum(x))"
   ],
   "metadata": {
    "collapsed": false
   }
  },
  {
   "cell_type": "code",
   "execution_count": null,
   "outputs": [],
   "source": [],
   "metadata": {
    "collapsed": false
   }
  }
 ],
 "metadata": {
  "kernelspec": {
   "display_name": "Python 3",
   "language": "python",
   "name": "python3"
  },
  "language_info": {
   "codemirror_mode": {
    "name": "ipython",
    "version": 2
   },
   "file_extension": ".py",
   "mimetype": "text/x-python",
   "name": "python",
   "nbconvert_exporter": "python",
   "pygments_lexer": "ipython2",
   "version": "2.7.6"
  }
 },
 "nbformat": 4,
 "nbformat_minor": 0
}
