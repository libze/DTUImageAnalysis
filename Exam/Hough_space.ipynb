{
 "cells": [
  {
   "cell_type": "code",
   "execution_count": 3,
   "metadata": {
    "collapsed": true
   },
   "outputs": [],
   "source": [
    "import matplotlib.pyplot as plt\n",
    "import numpy as np"
   ]
  },
  {
   "cell_type": "code",
   "execution_count": null,
   "outputs": [],
   "source": [
    "#Use geogebra"
   ],
   "metadata": {
    "collapsed": false
   }
  },
  {
   "cell_type": "code",
   "execution_count": 41,
   "outputs": [],
   "source": [
    "def find_matching_points(points, theta, rho):\n",
    "    op_points = [(0, 0), (1, 1)]\n",
    "    op_values = np.array([np.inf, np.inf])\n",
    "\n",
    "    if theta > 90:\n",
    "        theta = (theta - 180)/(360 * 2*np.pi)\n",
    "    else:\n",
    "        theta = theta/(360 * 2 * np.pi)\n",
    "\n",
    "    for point in points:\n",
    "        x, y = point[0], point[1]\n",
    "        rho_temp = x*np.cos(theta) + y * np.sin(theta)\n",
    "\n",
    "        all_sorted = sorted(zip(op_values, op_points), reverse=True)\n",
    "        sorted_values, op_points = map(list, zip(*all_sorted))\n",
    "\n",
    "\n",
    "        for i, value in enumerate(op_values):\n",
    "            if sorted_values[i] > np.abs(rho_temp - rho):\n",
    "                temp = sorted_values[i]\n",
    "                sorted_values[i] = np.abs(rho_temp - rho)\n",
    "                op_points[i] = (x, y)\n",
    "\n",
    "                break\n",
    "        #print(sorted_values)\n",
    "        op_values = sorted_values\n",
    "        print(op_values, op_points)\n",
    "\n",
    "\n",
    "    return op_values, op_points"
   ],
   "metadata": {
    "collapsed": false
   }
  },
  {
   "cell_type": "code",
   "execution_count": 42,
   "outputs": [
    {
     "name": "stdout",
     "output_type": "stream",
     "text": [
      "[6.54275867416502, inf] [(7, 13), (0, 0)]\n",
      "[8.581055694012296, 6.54275867416502] [(9, 10), (7, 13)]\n",
      "[5.58130225057551, 6.54275867416502] [(6, 10), (7, 13)]\n",
      "[5.606943177835122, 5.58130225057551] [(6, 8), (6, 10)]\n",
      "[2.6328306616579487, 5.58130225057551] [(3, 6), (6, 10)]\n",
      "([2.6328306616579487, 5.58130225057551], [(3, 6), (6, 10)])\n"
     ]
    }
   ],
   "source": [
    "points = [[7,13], [9,10], [6,10], [6,8], [3,6]]\n",
    "theta = 151\n",
    "rho = 0.29\n",
    "print(find_matching_points(points, theta, rho))"
   ],
   "metadata": {
    "collapsed": false
   }
  },
  {
   "cell_type": "code",
   "execution_count": 34,
   "outputs": [
    {
     "name": "stdout",
     "output_type": "stream",
     "text": [
      "((0, 0), (1, 1)) (0, 1)\n"
     ]
    }
   ],
   "source": [
    "#learning to sort two lists according to only one\n",
    "a = [(0,0), (1,1)]\n",
    "b = [0, 1]\n",
    "sorted_zip = sorted(zip(a, b))\n",
    "a, b = zip(*sorted_zip)\n",
    "print(a,b)"
   ],
   "metadata": {
    "collapsed": false
   }
  }
 ],
 "metadata": {
  "kernelspec": {
   "display_name": "Python 3",
   "language": "python",
   "name": "python3"
  },
  "language_info": {
   "codemirror_mode": {
    "name": "ipython",
    "version": 2
   },
   "file_extension": ".py",
   "mimetype": "text/x-python",
   "name": "python",
   "nbconvert_exporter": "python",
   "pygments_lexer": "ipython2",
   "version": "2.7.6"
  }
 },
 "nbformat": 4,
 "nbformat_minor": 0
}
