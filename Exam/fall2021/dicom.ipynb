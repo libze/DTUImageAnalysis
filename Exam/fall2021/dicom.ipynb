{
 "cells": [
  {
   "cell_type": "code",
   "execution_count": 27,
   "metadata": {
    "collapsed": true
   },
   "outputs": [],
   "source": [
    "import matplotlib.pyplot as plt\n",
    "import numpy as np\n",
    "import pydicom as dicom\n",
    "from skimage.morphology import erosion, disk, square, closing, opening\n",
    "from skimage.filters import prewitt\n",
    "import math\n",
    "from scipy.stats import norm\n",
    "import pandas as pd\n",
    "import seaborn as sns\n",
    "from skimage import color, io, measure, segmentation, img_as_ubyte\n",
    "from skimage.util import img_as_float, img_as_uint\n",
    "from skimage.filters import threshold_otsu\n",
    "from skimage.filters import gaussian\n",
    "from skimage.color import label2rgb\n",
    "from scipy.spatial import distance\n",
    "from skimage.transform import rotate\n",
    "from skimage.transform import EuclideanTransform\n",
    "from skimage.transform import SimilarityTransform\n",
    "from skimage.transform import warp\n",
    "from skimage.transform import matrix_transform\n",
    "from skimage import io, color, morphology\n",
    "import glob\n",
    "from sklearn.decomposition import PCA\n",
    "from sklearn import decomposition\n",
    "#import LDA as LDA\n",
    "import os\n",
    "import scipy.io as sio\n",
    "DATA_PATH = '../data_test/1-131/'"
   ]
  },
  {
   "cell_type": "code",
   "execution_count": 3,
   "outputs": [],
   "source": [
    "ct_dicom = dicom.read_file(DATA_PATH + \"1-131.dcm\")\n",
    "ct_img = ct_dicom.pixel_array"
   ],
   "metadata": {
    "collapsed": false
   }
  },
  {
   "cell_type": "code",
   "execution_count": 4,
   "outputs": [],
   "source": [
    "#Making masks for bone, spleen, liver as a function for later use\n",
    "def get_mask_vals(in_dir, roi):\n",
    "    temp_roi = io.imread(in_dir + roi)\n",
    "# convert to boolean image\n",
    "    temp_mask = temp_roi > 0\n",
    "    temp_values = ct_img[temp_mask]\n",
    "    return temp_values"
   ],
   "metadata": {
    "collapsed": false
   }
  },
  {
   "cell_type": "code",
   "execution_count": 9,
   "outputs": [
    {
     "name": "stdout",
     "output_type": "stream",
     "text": [
      "838.4418604651163 73.28221208665906 124.72452830188679\n"
     ]
    }
   ],
   "source": [
    "bone_values = get_mask_vals(DATA_PATH, \"BoneROI.png\")\n",
    "liver_values = get_mask_vals(DATA_PATH, \"LiverRoi.png\")\n",
    "spleen_values = get_mask_vals(DATA_PATH, \"spleenRoi.png\")\n",
    "mu_bone = np.mean(bone_values)\n",
    "mu_liver = np.mean(liver_values)\n",
    "mu_spleen = np.mean(spleen_values)\n",
    "print(mu_bone, mu_liver, mu_spleen)\n",
    "range = [(mu_spleen + mu_liver)/2, (mu_spleen + mu_bone)/2]"
   ],
   "metadata": {
    "collapsed": false
   }
  },
  {
   "cell_type": "code",
   "execution_count": 10,
   "outputs": [
    {
     "data": {
      "text/plain": "[99.00337019427292, 481.58319438350156]"
     },
     "execution_count": 10,
     "metadata": {},
     "output_type": "execute_result"
    }
   ],
   "source": [
    "range"
   ],
   "metadata": {
    "collapsed": false
   }
  },
  {
   "cell_type": "code",
   "execution_count": 11,
   "outputs": [],
   "source": [
    "t1 = 85\n",
    "t2 = 400\n",
    "ct_img_thresholded = (ct_img > t1) & (ct_img < t2)"
   ],
   "metadata": {
    "collapsed": false
   }
  },
  {
   "cell_type": "code",
   "execution_count": 28,
   "outputs": [],
   "source": [
    "footprint_ct = disk(5)\n",
    "closed_ct = closing(ct_img_thresholded, footprint_ct)\n",
    "footprint_ct = disk(3)\n",
    "opened_ct = opening(closed_ct, footprint_ct)\n",
    "labels = measure.label(opened_ct, connectivity=2)\n",
    "\n",
    "\n",
    "region_props = measure.regionprops(labels)\n",
    "max_area = 4000\n",
    "min_area = 1000\n",
    "count = 0\n",
    "for region in region_props:\n",
    "    if region.area < max_area and region.area > min_area:\n",
    "        # set the pixels in the invalid areas to background\n",
    "        count += 1\n",
    "        #for cords in region.coords:\n",
    "            #label_img_filter[cords[0], cords[1]] = 0\n",
    "count"
   ],
   "metadata": {
    "collapsed": false
   }
  },
  {
   "cell_type": "code",
   "execution_count": 24,
   "outputs": [
    {
     "data": {
      "text/plain": "<matplotlib.image.AxesImage at 0x220e64d1c50>"
     },
     "execution_count": 24,
     "metadata": {},
     "output_type": "execute_result"
    },
    {
     "data": {
      "text/plain": "<Figure size 640x480 with 1 Axes>",
      "image/png": "[encoded data removed]"
     },
     "metadata": {},
     "output_type": "display_data"
    }
   ],
   "source": [
    "io.imshow(opened_ct)"
   ],
   "metadata": {
    "collapsed": false
   }
  }
 ],
 "metadata": {
  "kernelspec": {
   "display_name": "Python 3",
   "language": "python",
   "name": "python3"
  },
  "language_info": {
   "codemirror_mode": {
    "name": "ipython",
    "version": 2
   },
   "file_extension": ".py",
   "mimetype": "text/x-python",
   "name": "python",
   "nbconvert_exporter": "python",
   "pygments_lexer": "ipython2",
   "version": "2.7.6"
  }
 },
 "nbformat": 4,
 "nbformat_minor": 0
}
