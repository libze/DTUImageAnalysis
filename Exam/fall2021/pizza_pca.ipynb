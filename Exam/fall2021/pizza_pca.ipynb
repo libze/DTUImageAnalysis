{
 "cells": [
  {
   "cell_type": "code",
   "execution_count": 1,
   "metadata": {
    "collapsed": true
   },
   "outputs": [],
   "source": [
    "import matplotlib.pyplot as plt\n",
    "import numpy as np\n",
    "import pydicom as dicom\n",
    "from skimage.morphology import erosion, disk, square, closing\n",
    "from skimage.filters import prewitt\n",
    "import math\n",
    "from scipy.stats import norm\n",
    "import pandas as pd\n",
    "import seaborn as sns\n",
    "from skimage import color, io, measure, segmentation, img_as_ubyte\n",
    "from skimage.util import img_as_float, img_as_uint\n",
    "from skimage.filters import threshold_otsu\n",
    "from skimage.filters import gaussian\n",
    "from skimage.color import label2rgb\n",
    "from scipy.spatial import distance\n",
    "from skimage.transform import rotate\n",
    "from skimage.transform import EuclideanTransform\n",
    "from skimage.transform import SimilarityTransform\n",
    "from skimage.transform import warp\n",
    "from skimage.transform import matrix_transform\n",
    "from skimage import io, color, morphology\n",
    "import glob\n",
    "from sklearn.decomposition import PCA\n",
    "from sklearn import decomposition\n",
    "#import LDA as LDA\n",
    "import os\n",
    "import scipy.io as sio\n",
    "\n",
    "DATA_PATH = '../data_test/pizza/'"
   ]
  },
  {
   "cell_type": "code",
   "execution_count": 4,
   "outputs": [],
   "source": [
    "pizza_data = np.loadtxt(DATA_PATH + \"pizza.txt\", comments=\"%\")\n",
    "x = pizza_data\n",
    "data = x - np.mean(x)"
   ],
   "metadata": {
    "collapsed": false
   }
  },
  {
   "cell_type": "code",
   "execution_count": 5,
   "outputs": [],
   "source": [
    "pca = decomposition.PCA()\n",
    "pca.fit(x)\n",
    "values_pca = pca.explained_variance_\n",
    "exp_var_ratio = pca.explained_variance_ratio_\n",
    "vectors_pca = pca.components_\n",
    "data_transform = pca.transform(data)"
   ],
   "metadata": {
    "collapsed": false
   }
  },
  {
   "cell_type": "code",
   "execution_count": 12,
   "outputs": [
    {
     "name": "stdout",
     "output_type": "stream",
     "text": [
      "0.9685076820635133\n"
     ]
    }
   ],
   "source": [
    "print(np.sum(values_pca[:2])/np.sum(values_pca))"
   ],
   "metadata": {
    "collapsed": false
   }
  },
  {
   "cell_type": "code",
   "execution_count": 15,
   "outputs": [
    {
     "name": "stdout",
     "output_type": "stream",
     "text": [
      "[40.07217639 12.57274229 19.39273266  2.46693105  0.63597518 25.49901976\n",
      "  3.26919014]\n"
     ]
    }
   ],
   "source": [
    "new_pizza = np.mean(x, axis = 0) + vectors_pca[0]*3\n",
    "print(new_pizza)\n"
   ],
   "metadata": {
    "collapsed": false
   }
  },
  {
   "cell_type": "code",
   "execution_count": null,
   "outputs": [],
   "source": [],
   "metadata": {
    "collapsed": false
   }
  }
 ],
 "metadata": {
  "kernelspec": {
   "display_name": "Python 3",
   "language": "python",
   "name": "python3"
  },
  "language_info": {
   "codemirror_mode": {
    "name": "ipython",
    "version": 2
   },
   "file_extension": ".py",
   "mimetype": "text/x-python",
   "name": "python",
   "nbconvert_exporter": "python",
   "pygments_lexer": "ipython2",
   "version": "2.7.6"
  }
 },
 "nbformat": 4,
 "nbformat_minor": 0
}
