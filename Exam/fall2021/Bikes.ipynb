{
 "cells": [
  {
   "cell_type": "code",
   "execution_count": 2,
   "metadata": {
    "collapsed": true
   },
   "outputs": [],
   "source": [
    "import matplotlib.pyplot as plt\n",
    "import numpy as np\n",
    "import pydicom as dicom\n",
    "from skimage.morphology import erosion, disk, square, closing, opening\n",
    "from skimage.filters import prewitt\n",
    "import math\n",
    "from scipy.stats import norm\n",
    "import pandas as pd\n",
    "import seaborn as sns\n",
    "from skimage import color, io, measure, segmentation, img_as_ubyte\n",
    "from skimage.util import img_as_float, img_as_uint\n",
    "from skimage.filters import threshold_otsu\n",
    "from skimage.filters import gaussian\n",
    "from skimage.color import label2rgb\n",
    "from scipy.spatial import distance\n",
    "from skimage.transform import rotate\n",
    "from skimage.transform import EuclideanTransform\n",
    "from skimage.transform import SimilarityTransform\n",
    "from skimage.transform import warp\n",
    "from skimage.transform import matrix_transform\n",
    "from skimage import io, color, morphology\n",
    "import glob\n",
    "from sklearn.decomposition import PCA\n",
    "from sklearn import decomposition\n",
    "#import LDA as LDA\n",
    "import os\n",
    "import scipy.io as sio\n",
    "DATA_PATH = '../data_test/bikes2/'"
   ]
  },
  {
   "cell_type": "code",
   "execution_count": 48,
   "outputs": [],
   "source": [
    "bike_img = io.imread(DATA_PATH + 'bikes.png')\n",
    "bike_img = (bike_img[:,:,0] < 100) & (bike_img[:,:,1] > 200) & (bike_img[:,:,2] > 100)\n",
    "footprint_bike = disk(8)\n",
    "closed_bike = closing(bike_img, footprint_bike)\n"
   ],
   "metadata": {
    "collapsed": false
   }
  },
  {
   "cell_type": "code",
   "execution_count": 49,
   "outputs": [
    {
     "data": {
      "text/plain": "<matplotlib.image.AxesImage at 0x214685aba90>"
     },
     "execution_count": 49,
     "metadata": {},
     "output_type": "execute_result"
    },
    {
     "data": {
      "text/plain": "<Figure size 640x480 with 1 Axes>",
      "image/png": "[encoded data removed]"
     },
     "metadata": {},
     "output_type": "display_data"
    }
   ],
   "source": [
    "io.imshow(closed_bike)"
   ],
   "metadata": {
    "collapsed": false
   }
  },
  {
   "cell_type": "code",
   "execution_count": 52,
   "outputs": [],
   "source": [
    "box_vals = io.imread(DATA_PATH + 'boxROI.png')\n",
    "box_vals = box_vals > 0"
   ],
   "metadata": {
    "collapsed": false
   }
  },
  {
   "cell_type": "code",
   "execution_count": 53,
   "outputs": [
    {
     "name": "stdout",
     "output_type": "stream",
     "text": [
      "0.9314763598050836\n"
     ]
    }
   ],
   "source": [
    "print(1 - distance.dice(closed_bike.ravel(), box_vals.ravel()))"
   ],
   "metadata": {
    "collapsed": false
   }
  },
  {
   "cell_type": "code",
   "execution_count": null,
   "outputs": [],
   "source": [],
   "metadata": {
    "collapsed": false
   }
  }
 ],
 "metadata": {
  "kernelspec": {
   "display_name": "Python 3",
   "language": "python",
   "name": "python3"
  },
  "language_info": {
   "codemirror_mode": {
    "name": "ipython",
    "version": 2
   },
   "file_extension": ".py",
   "mimetype": "text/x-python",
   "name": "python",
   "nbconvert_exporter": "python",
   "pygments_lexer": "ipython2",
   "version": "2.7.6"
  }
 },
 "nbformat": 4,
 "nbformat_minor": 0
}
