{
 "cells": [
  {
   "cell_type": "code",
   "execution_count": 2,
   "metadata": {
    "collapsed": true
   },
   "outputs": [],
   "source": [
    "import matplotlib.pyplot as plt\n",
    "import numpy as np\n",
    "import pydicom as dicom\n",
    "from skimage.morphology import erosion, disk, square, closing, opening\n",
    "from skimage.filters import prewitt, prewitt_v, prewitt_h, median\n",
    "import math\n",
    "from scipy.stats import norm\n",
    "import pandas as pd\n",
    "import seaborn as sns\n",
    "from skimage import color, io, measure, segmentation, img_as_ubyte\n",
    "from skimage.util import img_as_float, img_as_uint\n",
    "from skimage.filters import threshold_otsu\n",
    "from skimage.filters import gaussian\n",
    "from skimage.color import label2rgb\n",
    "from scipy.spatial import distance\n",
    "from skimage.transform import rotate\n",
    "from skimage.transform import EuclideanTransform\n",
    "from skimage.transform import SimilarityTransform\n",
    "from skimage.transform import warp\n",
    "from skimage.transform import matrix_transform\n",
    "from skimage import io, color, morphology\n",
    "import glob\n",
    "from sklearn.decomposition import PCA\n",
    "from sklearn import decomposition\n",
    "#import LDA as LDA\n",
    "import os\n",
    "import scipy.io as sio\n",
    "DATA_PATH = '../data_test/water_gray/'"
   ]
  },
  {
   "cell_type": "code",
   "execution_count": 3,
   "outputs": [
    {
     "name": "stdout",
     "output_type": "stream",
     "text": [
      "The distances are 0.01764705882352941, 0.015228426395939085, 0.015045135406218655, 0.015015015015015013 m\n"
     ]
    }
   ],
   "source": [
    "# Exercise 2\n",
    "def camera_b_distance(f, g):\n",
    "    \"\"\"\n",
    "    camera_b_distance returns the distance (b) where the CCD should be placed\n",
    "    when the object distance (g) and the focal length (f) are given\n",
    "    inputs :\n",
    "        f: Focal length\n",
    "        g: Object distance\n",
    "    output:\n",
    "        b, the distance where the CCD should be placed\n",
    "    \"\"\"\n",
    "    return 1/(1 / f - 1 / g)\n",
    "\n",
    "f = 15 / 1000\n",
    "g = np.array([0.1, 1, 5, 15])\n",
    "\n",
    "b = camera_b_distance(f, g)\n",
    "print(f\"The distances are {b[0]}, {b[1]}, {b[2]}, {b[3]} m\")"
   ],
   "metadata": {
    "collapsed": false
   }
  },
  {
   "cell_type": "code",
   "execution_count": 18,
   "outputs": [
    {
     "name": "stdout",
     "output_type": "stream",
     "text": [
      "THE ball will be 20.0 cm tall on the CCD chip\n"
     ]
    }
   ],
   "source": [
    "# Exercise 3\n",
    "# 1\n",
    "g = 150\n",
    "f = 15 /10\n",
    "b = f\n",
    "\n",
    "pix_size = 4.2 /5040\n",
    "\n",
    "#2\n",
    "B = pix_size * 2400 * 0.1\n",
    "G = g/b *B\n",
    "print(f\"THE ball will be {G} cm tall on the CCD chip\")"
   ],
   "metadata": {
    "collapsed": false
   }
  },
  {
   "cell_type": "code",
   "execution_count": null,
   "outputs": [],
   "source": [],
   "metadata": {
    "collapsed": false
   }
  }
 ],
 "metadata": {
  "kernelspec": {
   "display_name": "Python 3",
   "language": "python",
   "name": "python3"
  },
  "language_info": {
   "codemirror_mode": {
    "name": "ipython",
    "version": 2
   },
   "file_extension": ".py",
   "mimetype": "text/x-python",
   "name": "python",
   "nbconvert_exporter": "python",
   "pygments_lexer": "ipython2",
   "version": "2.7.6"
  }
 },
 "nbformat": 4,
 "nbformat_minor": 0
}
