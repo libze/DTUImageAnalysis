{
 "cells": [
  {
   "cell_type": "code",
   "execution_count": 2,
   "metadata": {
    "collapsed": true
   },
   "outputs": [],
   "source": [
    "import matplotlib.pyplot as plt\n",
    "import numpy as np\n",
    "import pydicom as dicom\n",
    "from skimage.morphology import erosion, disk, square, closing\n",
    "from skimage.filters import prewitt\n",
    "import math\n",
    "from scipy.stats import norm\n",
    "import pandas as pd\n",
    "import seaborn as sns\n",
    "from skimage import color, io, measure, segmentation, img_as_ubyte\n",
    "from skimage.util import img_as_float, img_as_uint\n",
    "from skimage.filters import threshold_otsu\n",
    "from skimage.filters import gaussian\n",
    "from skimage.color import label2rgb\n",
    "from scipy.spatial import distance\n",
    "from skimage.transform import rotate\n",
    "from skimage.transform import EuclideanTransform\n",
    "from skimage.transform import SimilarityTransform\n",
    "from skimage.transform import warp\n",
    "from skimage.transform import matrix_transform\n",
    "from skimage import io, color, morphology\n",
    "import glob\n",
    "from sklearn.decomposition import PCA\n",
    "from sklearn import decomposition\n",
    "#import LDA as LDA\n",
    "import scipy.io as sio\n",
    "DATA_PATH = '../data_test/'"
   ]
  },
  {
   "cell_type": "code",
   "execution_count": 3,
   "outputs": [],
   "source": [
    "img = io.imread(DATA_PATH + 'ClimbingWall/ClimbingWall.png')"
   ],
   "metadata": {
    "collapsed": false
   }
  },
  {
   "cell_type": "code",
   "execution_count": 4,
   "outputs": [
    {
     "name": "stdout",
     "output_type": "stream",
     "text": [
      "38192\n",
      "38192\n"
     ]
    }
   ],
   "source": [
    "green = img[:,:,0] < 60\n",
    "red = img[:,:, 1] < 200\n",
    "blue = img[:,:, 2] < 100\n",
    "test_img = green.astype(int) + red.astype(int) + blue.astype(int) == 3\n",
    "print(np.sum(test_img))\n",
    "print(np.sum(green & red & blue))\n",
    "#io.imshow(new_img)"
   ],
   "metadata": {
    "collapsed": false
   }
  },
  {
   "cell_type": "code",
   "execution_count": 5,
   "outputs": [
    {
     "name": "stdout",
     "output_type": "stream",
     "text": [
      "566\n"
     ]
    }
   ],
   "source": [
    "footprint = disk(3)\n",
    "closed = closing(test_img, footprint)\n",
    "\n",
    "clear_boarder = segmentation.clear_border(closed)\n",
    "\n",
    "label_img = measure.label(clear_boarder, connectivity=2)\n",
    "print(label_img.max())"
   ],
   "metadata": {
    "collapsed": false
   }
  },
  {
   "cell_type": "code",
   "execution_count": 6,
   "outputs": [
    {
     "data": {
      "text/plain": "<matplotlib.image.AxesImage at 0x254bb5a1c10>"
     },
     "execution_count": 6,
     "metadata": {},
     "output_type": "execute_result"
    },
    {
     "data": {
      "text/plain": "<Figure size 640x480 with 1 Axes>",
      "image/png": "[encoded data removed]"
     },
     "metadata": {},
     "output_type": "display_data"
    }
   ],
   "source": [
    "io.imshow(clear_boarder)"
   ],
   "metadata": {
    "collapsed": false
   }
  },
  {
   "cell_type": "code",
   "execution_count": 7,
   "outputs": [
    {
     "data": {
      "text/plain": "20"
     },
     "execution_count": 7,
     "metadata": {},
     "output_type": "execute_result"
    }
   ],
   "source": [
    "region_props = measure.regionprops(label_img)\n",
    "min_area = 300\n",
    "\n",
    "count = 0\n",
    "for region in region_props:\n",
    "    if region.perimeter < 500 and region.area > min_area:\n",
    "        # set the pixels in the invalid areas to background\n",
    "        count += 1\n",
    "        #for cords in region.coords:\n",
    "            #label_img_filter[cords[0], cords[1]] = 0\n",
    "count"
   ],
   "metadata": {
    "collapsed": false
   }
  },
  {
   "cell_type": "code",
   "execution_count": null,
   "outputs": [],
   "source": [],
   "metadata": {
    "collapsed": false
   }
  }
 ],
 "metadata": {
  "kernelspec": {
   "display_name": "Python 3",
   "language": "python",
   "name": "python3"
  },
  "language_info": {
   "codemirror_mode": {
    "name": "ipython",
    "version": 2
   },
   "file_extension": ".py",
   "mimetype": "text/x-python",
   "name": "python",
   "nbconvert_exporter": "python",
   "pygments_lexer": "ipython2",
   "version": "2.7.6"
  }
 },
 "nbformat": 4,
 "nbformat_minor": 0
}
