{
 "cells": [
  {
   "cell_type": "code",
   "execution_count": null,
   "metadata": {
    "collapsed": true
   },
   "outputs": [],
   "source": [
    "import matplotlib.pyplot as plt\n",
    "import numpy as np\n",
    "import pydicom as dicom\n",
    "import math\n",
    "from scipy.stats import norm\n",
    "import pandas as pd\n",
    "import seaborn as sns\n",
    "from skimage import color, io, measure, segmentation\n",
    "from skimage.util import img_as_float, img_as_uint, img_as_ubyte\n",
    "from skimage.filters import threshold_otsu, gaussian, prewitt, prewitt_h, prewitt_v, median\n",
    "from skimage.color import label2rgb, rgb2gray, rgb2hsv\n",
    "from skimage.transform import rotate, warp, swirl, EuclideanTransform, SimilarityTransform, estimate_transform, matrix_transform\n",
    "from skimage.morphology import erosion, dilation, opening, closing, disk, square, binary_closing, binary_opening\n",
    "from skimage import io, color, morphology\n",
    "import glob\n",
    "from sklearn.decomposition import PCA\n",
    "from sklearn import decomposition\n",
    "from scipy.spatial import distance\n",
    "from scipy.ndimage import correlate\n",
    "import SimpleITK as sitk\n",
    "from IPython.display import clear_output\n",
    "import scipy.io as sio #used to load .mat files (loadmat)\n",
    "# Help functions created during the course:\n",
    "from help_functions import *"
   ]
  }
 ],
 "metadata": {
  "kernelspec": {
   "display_name": "Python 3",
   "language": "python",
   "name": "python3"
  },
  "language_info": {
   "codemirror_mode": {
    "name": "ipython",
    "version": 2
   },
   "file_extension": ".py",
   "mimetype": "text/x-python",
   "name": "python",
   "nbconvert_exporter": "python",
   "pygments_lexer": "ipython2",
   "version": "2.7.6"
  }
 },
 "nbformat": 4,
 "nbformat_minor": 0
}
